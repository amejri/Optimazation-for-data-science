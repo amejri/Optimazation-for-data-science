{
 "cells": [
  {
   "cell_type": "markdown",
   "metadata": {
    "lang": "en"
   },
   "source": [
    "# Short Lab 3 : Proximal/cyclic/greedy coordinate descent\n",
    "\n",
    "#### Authors: M. Massias, P. Ablin\n",
    "\n",
    "## Aim\n",
    "\n",
    "The aim of this material is to code \n",
    "- cyclic and greedy coordinate descent for ordinary least squares (OLS)\n",
    "- proximal gradient descent for sparse Logistic regression\n",
    "\n",
    "## VERY IMPORTANT\n",
    "\n",
    "- This work **must be done by pairs of students**.\n",
    "- **Each** student must send their work **before the 11th of november at 23:59**, using the **moodle platform**.\n",
    "- This means that **each student in the pair sends the same file**\n",
    "- On the moodle, in the \"Optimization for Data Science\" course, you have a \"devoir\" section called **Rendu TP du 5 novembre 2017**. This is where you submit your jupyter notebook file. \n",
    "- The **name of the file must be** constructed as in the next cell\n",
    "\n",
    "# Gentle reminder: no evaluation if you don't respect this EXACTLY\n",
    "\n",
    "### How to construct the name of your file"
   ]
  },
  {
   "cell_type": "code",
   "execution_count": 1,
   "metadata": {
    "ExecuteTime": {
     "end_time": "2018-11-11T02:27:46.763175Z",
     "start_time": "2018-11-11T02:27:46.757394Z"
    }
   },
   "outputs": [
    {
     "name": "stdout",
     "output_type": "stream",
     "text": [
      "lab3_bejaoui_ahmed_and_mejri_aymen.ipynb\n"
     ]
    }
   ],
   "source": [
    "# Change here using YOUR first and last names\n",
    "fn1 = \"ahmed\"\n",
    "ln1 = \"bejaoui\"\n",
    "fn2 = \"aymen\"\n",
    "ln2 = \"mejri\"\n",
    "\n",
    "filename = \"_\".join(map(lambda s: s.strip().lower(),\n",
    "                        [\"lab3\", ln1, fn1, \"and\", ln2, fn2])) + \".ipynb\"\n",
    "print(filename)"
   ]
  },
  {
   "cell_type": "code",
   "execution_count": 2,
   "metadata": {
    "ExecuteTime": {
     "end_time": "2018-11-11T02:27:49.035744Z",
     "start_time": "2018-11-11T02:27:46.765949Z"
    }
   },
   "outputs": [],
   "source": [
    "import matplotlib.pyplot as plt\n",
    "import numpy as np\n",
    "import seaborn as sns\n",
    "from numpy.linalg import norm\n",
    "from scipy.optimize import fmin_l_bfgs_b\n",
    "\n",
    "sns.set()"
   ]
  },
  {
   "cell_type": "code",
   "execution_count": 3,
   "metadata": {
    "ExecuteTime": {
     "end_time": "2018-11-11T02:27:49.054228Z",
     "start_time": "2018-11-11T02:27:49.039423Z"
    }
   },
   "outputs": [],
   "source": [
    "from numpy.random import multivariate_normal, randn\n",
    "from scipy.linalg.special_matrices import toeplitz\n",
    "\n",
    "\n",
    "def simu(coefs, n_samples=1000, corr=0.5, for_logreg=False):\n",
    "    n_features = len(coefs)\n",
    "    cov = toeplitz(corr ** np.arange(0, n_features))\n",
    "    A = multivariate_normal(np.zeros(n_features), cov, size=n_samples)\n",
    "    b = A.dot(coefs) + randn(n_samples)\n",
    "    if for_logreg:\n",
    "        b = np.sign(b)\n",
    "    return A, b"
   ]
  },
  {
   "cell_type": "markdown",
   "metadata": {},
   "source": [
    "## Part 1: Ordinary Least Squares\n",
    "\n",
    "\n",
    "Let $A \\in \\mathbb{R}^{n \\times p}$, $y \\in \\mathbb{R}^n$.\n",
    "We want to use coordinate descent to solve:\n",
    "    $$\\hat w \\in  \\mathrm{arg \\, min \\,} \\frac 12 \\Vert Aw - b \\Vert ^2 $$\n",
    "\n",
    "We ask you to code:\n",
    "- cyclic coordinate descent: at iteration $t$, update feature $j = t \\mod p$\n",
    "- greedy coordinate descent: at iteration $t$, update feature having the largest partial gradient in magnitude, ie $j = \\mathrm{arg\\, max \\,}_{i} \\vert \\nabla_i f(w_t) \\vert$.\n",
    "\n",
    "\n",
    "**WARNING**: You must do this in a clever way, ie such that $p$ updates cost the same as one update of GD."
   ]
  },
  {
   "cell_type": "code",
   "execution_count": 4,
   "metadata": {
    "ExecuteTime": {
     "end_time": "2018-11-11T02:27:49.201350Z",
     "start_time": "2018-11-11T02:27:49.058018Z"
    }
   },
   "outputs": [],
   "source": [
    "n_features = 100\n",
    "np.random.seed(1970)\n",
    "coefs = np.random.randn(n_features)\n",
    "\n",
    "A, b = simu(coefs, n_samples=1000, for_logreg=False)"
   ]
  },
  {
   "cell_type": "code",
   "execution_count": 5,
   "metadata": {
    "ExecuteTime": {
     "end_time": "2018-11-11T02:27:49.265692Z",
     "start_time": "2018-11-11T02:27:49.203642Z"
    }
   },
   "outputs": [],
   "source": [
    "def cyclic_cd(A, b, n_iter):\n",
    "    n_samples, n_features = A.shape\n",
    "    all_objs = []\n",
    "\n",
    "    w = np.zeros(n_features)\n",
    "    residuals = b - A.dot(w)\n",
    "\n",
    "    # TODO\n",
    "    # lips_const = should be an array of n features\n",
    "    lips_const = np.linalg.norm(A, axis=0)**2\n",
    "    # END TODO\n",
    "\n",
    "    for t in range(n_iter):\n",
    "        j = t % n_features\n",
    "        # TODO\n",
    "        old_w_j = w[j]\n",
    "        w[j] += A[:, j].dot(residuals) / lips_const[j]\n",
    "        # update residuals:\n",
    "        residuals += A[:, j]*(old_w_j - w[j])\n",
    "        # END TODO\n",
    "\n",
    "        if t % n_features == 0:\n",
    "            all_objs.append((residuals ** 2).sum() / 2.)\n",
    "    return w, np.array(all_objs)\n",
    "\n",
    "\n",
    "def greedy_cd(A, b, n_iter):\n",
    "    n_samples, n_features = A.shape\n",
    "    all_objs = []\n",
    "\n",
    "    w = np.zeros(n_features)\n",
    "\n",
    "    gradient = A.T.dot(A.dot(w) - b)\n",
    "    gram = A.T.dot(A)  # you will need this to keep the gradient up to date\n",
    "\n",
    "    # TODO\n",
    "    lips_const = np.linalg.norm(A, axis=0)**2\n",
    "    # END TODO\n",
    "\n",
    "    for t in range(n_iter):\n",
    "        # TODO\n",
    "        # choose feature j to update:\n",
    "        j = np.argmax(np.abs(gradient))\n",
    "        old_w_j = w[j]\n",
    "        w[j] -= gradient[j] / lips_const[j]\n",
    "        gradient += gram[:, j] * (w[j]-old_w_j)\n",
    "        # update gradient:\n",
    "        # gradient\n",
    "        # END TODO\n",
    "\n",
    "        if t % n_features == 0:\n",
    "            all_objs.append(0.5 * np.linalg.norm(A.dot(w) - b) ** 2)\n",
    "\n",
    "    return w, np.array(all_objs)"
   ]
  },
  {
   "cell_type": "markdown",
   "metadata": {},
   "source": [
    "- compute a precise minimum with your favorite solver\n",
    "- compare the performance of cyclic and greedy CD\n",
    "\n",
    "- could you use greedy CD for unregularized logistic regression? for OLS, but with 100,000 features? Explain your answers."
   ]
  },
  {
   "cell_type": "markdown",
   "metadata": {},
   "source": [
    "<div class=\"alert alert-success\" role=\"alert\">\n",
    "<center>\n",
    "<h5>Question1: Compute a precise minimum with your favorite solver"
   ]
  },
  {
   "cell_type": "code",
   "execution_count": 6,
   "metadata": {
    "ExecuteTime": {
     "end_time": "2018-11-11T02:27:49.374864Z",
     "start_time": "2018-11-11T02:27:49.268497Z"
    }
   },
   "outputs": [],
   "source": [
    "def grad(x, A, b):\n",
    "    \"\"\"Full gradient\"\"\"\n",
    "    return A.T.dot(A.dot(x)-b)\n",
    "\n",
    "\n",
    "def loss(x, A, b):\n",
    "    return 0.5*norm(A.dot(x) - b) ** 2"
   ]
  },
  {
   "cell_type": "code",
   "execution_count": 7,
   "metadata": {
    "ExecuteTime": {
     "end_time": "2018-11-11T02:27:49.514481Z",
     "start_time": "2018-11-11T02:27:49.377652Z"
    },
    "code_folding": []
   },
   "outputs": [],
   "source": [
    "x_init = np.zeros(A.shape[1])\n",
    "x_min, f_min, _ = fmin_l_bfgs_b(\n",
    "    loss, x_init, grad, args=(A, b), pgtol=1e-30, factr=1e-30)"
   ]
  },
  {
   "cell_type": "markdown",
   "metadata": {},
   "source": [
    "<div class=\"alert alert-success\" role=\"alert\">\n",
    "<center>\n",
    "<h5>Question 2 : compare the performance of cyclic and greedy CD"
   ]
  },
  {
   "cell_type": "code",
   "execution_count": 8,
   "metadata": {
    "ExecuteTime": {
     "end_time": "2018-11-11T02:27:49.607645Z",
     "start_time": "2018-11-11T02:27:49.517247Z"
    }
   },
   "outputs": [],
   "source": [
    "def plot_epochs(monitors, solvers, n_iter=3000):\n",
    "    plt.figure(figsize=(15, 5))\n",
    "\n",
    "    for monit in monitors:\n",
    "\n",
    "        w, obj = monit(A, b, n_iter)\n",
    "        diff_obj = obj - f_min\n",
    "        plt.semilogy(diff_obj, lw=2)\n",
    "        plt.title(\"Loss\")\n",
    "        plt.xlabel(\"Epoch\")\n",
    "        plt.ylabel(\"objective\")\n",
    "\n",
    "        plt.legend(solvers)"
   ]
  },
  {
   "cell_type": "code",
   "execution_count": 9,
   "metadata": {
    "ExecuteTime": {
     "end_time": "2018-11-11T02:27:50.650127Z",
     "start_time": "2018-11-11T02:27:49.612589Z"
    }
   },
   "outputs": [
    {
     "data": {
      "image/png": "[encoded data removed]",
      "text/plain": [
       "<Figure size 1080x360 with 1 Axes>"
      ]
     },
     "metadata": {
      "needs_background": "light"
     },
     "output_type": "display_data"
    }
   ],
   "source": [
    "monitors = [cyclic_cd, greedy_cd]\n",
    "solvers = ['cyclic_cd', 'greedy_cd']\n",
    "plot_epochs(monitors, solvers)"
   ]
  },
  {
   "cell_type": "markdown",
   "metadata": {},
   "source": [
    "<div class=\"alert alert-info\" role=\"alert\">\n",
    "<center>\n",
    "<h4>Interprétation:</h4>\n",
    "<br>\n",
    "    \n",
    "First, both algorithms are optimizing over a single coordinate while holding others fixed.\n",
    "\n",
    "we can see from the graph that the greedy algorithm is faster in terms of convergence than the cyclic algorithm.\n",
    "this result is predictable since in each iteration, the greedy algorithm takes the direction having the highest gradient, ie the direction that minimizes the function the most.\n",
    "\n",
    "On the other hand, for the cyclic algorithm,\n",
    "the choice of the coordinate is taken in a cyclic manner which does not correspond to the optimal choice of the minimization direction.\n",
    "\n",
    "In terms of execution time and calculation cost, we can see that the greedy algorithm requires a lot of memory and it takes a lot of time to find the optimal direction since at each iteration it must recompute all the components of the gradient.\n",
    "</center>\n",
    "</div>"
   ]
  },
  {
   "cell_type": "markdown",
   "metadata": {},
   "source": [
    "<div class=\"alert alert-success\" role=\"alert\">\n",
    "<center>\n",
    "<h5> Question 3: could you use greedy CD for unregularized logistic regression? for OLS, but with 100,000 features? Explain your answers."
   ]
  },
  {
   "cell_type": "markdown",
   "metadata": {},
   "source": [
    "<div class=\"alert alert-info\" role=\"alert\">\n",
    "<center>\n",
    "<h4>\n",
    "    a) Could you use greedy CD for unregularized logistic regression?</h4></center>\n",
    "When we use the greedy CD for unregularized logistic regression, our function $f(w)=\\frac 12 \\Vert Aw - b \\Vert ^2 $ that we want to minimize might not be strictly convex as its hessian matrix $\\nabla^2f=A^T.A$ is not necessarily definite positive. In this case, the greedy CD algorithm might converge to a local minimum instead of the global minimum\n",
    " "
   ]
  },
  {
   "cell_type": "markdown",
   "metadata": {},
   "source": [
    "<div class=\"alert alert-info\" role=\"alert\">\n",
    "<center>\n",
    "<h4>b) For OLS, but with 100,000 features:</h4>\n",
    "\n",
    "It is not appropriate to use the greedy algorithm in this case because our data has 100,000 features. this will necessarily have a huge computing cost and will require a large memory capacity.\n",
    "In fact, the need for a large memory capacity is due in part to the calculation of the Gram $A^TA$ matrix whose size is $\\mathbb{R}^{100000 x 100000}$.\n",
    "\n",
    "Moreover, the high cost of the computation is due to the fact that for each iteration, we have to compute all compostantes of the gradient of f (we must recompute $\\partial_i f(w)\\ \\ \\forall i)$ .\n",
    "</center>\n",
    "</div>"
   ]
  },
  {
   "cell_type": "markdown",
   "metadata": {},
   "source": [
    "## Part 2: Sparse Logistic regression"
   ]
  },
  {
   "cell_type": "markdown",
   "metadata": {},
   "source": [
    "### An important result\n",
    "\n",
    "Remember: we are solving \n",
    "$$\\hat w \\in \\mathrm{arg \\, min} \\sum_{i=1}^{n} \\mathrm{log} ( 1 + e^{- y_i w^\\top x_i} )  + \\lambda \\Vert w \\Vert_1$$"
   ]
  },
  {
   "cell_type": "markdown",
   "metadata": {},
   "source": [
    "<div class=\"alert alert-success\" role=\"alert\">\n",
    "    <center><h5>Question 1)</h5></center> \n",
    "        <br>Show that:\n",
    "        <h5>\n",
    "$$ \\lambda \\geq \\lambda_{max} \\implies \\hat w = 0$$\n",
    "where $\\lambda_{max} := \\frac 12 \\Vert X^\\top y \\Vert_{\\infty}$.\n",
    "\n",
    "\n",
    "You will need the following beautiful result: for any $w =(w_1, \\dots, w_p) \\in \\mathbb{R}^p$, the subdifferential of the L1 norm at $w$ is:\n",
    "\n",
    "$$\\partial \\Vert \\cdot \\Vert_1 (w) = \\partial \\vert \\cdot \\vert_1 (w_1)  \\times \\dots \\times \\partial \\vert \\cdot \\vert_1 (w_p) $$\n",
    "where $\\times$ is the Cartesian product between sets,\n",
    "and $$ \\partial \\vert \\cdot \\vert_1 (w_1) = \n",
    "\\begin{cases} &w_j / |w_j| &\\mathrm{if} \\quad w_j \\neq 0, \n",
    "         \\\\ & [-1, 1] &\\mathrm{otherwise.} \n",
    "\\end{cases}\n",
    "$$\n",
    "\n",
    "\n",
    "(it should now be easy to find $\\partial \\Vert \\cdot \\Vert_1 (\\mathbf{0}_p)$)"
   ]
  },
  {
   "cell_type": "markdown",
   "metadata": {},
   "source": [
    "<div class=\"alert alert-info\" role=\"alert\">\n",
    "<center>\n",
    "<h4>\n",
    "<B>Answer :</B></h4\n",
    "\n",
    "We denote f by $f(w)=\\sum_{i=1}^{n} \\mathrm{log} ( 1 + e^{- y_i w^\\top x_i} )$\n",
    "Then\n",
    "$\\partial f(w)= \\sum_{i=1}^{n} \\frac{x_i^T y}{ 1 + e^{- y_i w^\\top x_i}}$\n",
    "<br>\n",
    "We are trying to solve \n",
    "$$\\hat w \\in \\mathrm{arg \\, min} \\sum_{i=1}^{n} \\mathrm{log} ( 1 + e^{- y_i w^\\top x_i} )  + \\lambda \\Vert w \\Vert_1=\n",
    "\\mathrm{arg \\, min} f(w)  + \\lambda \\Vert w \\Vert_1=\\mathrm{arg \\, min} L(w)$$\n",
    "\n",
    "First we can see that this function is strictly convex as sum of a convex function which is l1 norm and a strictly convex function which is $f(w)=\\sum_{i=1}^{n} \\mathrm{log} ( 1 + e^{- y_i w^\\top x_i} )$  \n",
    "\n",
    "<br>\n",
    "We have \n",
    "<br>\n",
    "$\\begin{align*} \n",
    "\\lambda_{max} := \\frac 12 \\Vert X^\\top y \\Vert_{\\infty} := \\frac 12\\max_i (\\vert x_i^T y\\vert)\\leq \\lambda &\\iff \\forall i \\in \\{1..n\\} \\frac 12(\\vert x_i^T y\\vert)\\leq \\lambda  \\\\\n",
    "&\\iff  \\forall i \\in \\{1..n\\} \\frac 12 x_i^T y \\in \\lambda * [-1,1] \\\\\n",
    "&\\iff  \\frac 12 X^\\top y \\in \\lambda*B_{\\infty} \\ where B_{\\infty}=[-1,1]^p  \\\\\n",
    "&\\iff \\frac 12 \\sum_{i=1}^nx_i^T y \\in \\lambda*B_{\\infty} \\  or \\frac12=\\frac{x_i^T y}{ 1 + e^{- y_i 0^\\top x_i}}\\\\ \n",
    "&\\iff \\sum_{i=1}^{n} \\frac{x_i^T y}{ 1 + e^{- y_i 0^\\top x_i}}  \\in \\lambda*B_{\\infty}=\\lambda  \\partial \\Vert . \\Vert (0)  \\\\ \n",
    "&\\iff  -\\partial f(0) \\in \\lambda  \\partial \\Vert . \\Vert (0)  \\\\\n",
    "&\\iff  0 \\in \\partial f(0) + \\lambda  \\partial \\Vert . \\Vert (0)  \\\\\n",
    "&\\iff  0 \\in (\\partial f + \\lambda  \\partial \\Vert . \\Vert) (0)= \\partial L(0)  \\\\\n",
    "&\\iff  0 \\in  \\arg\\min  L(w)  (using \\  fermat's \\  rules)\\\\\n",
    "&\\iff  0 \\in   \\mathrm{arg \\, min} \\sum_{i=1}^{n} \\mathrm{log} ( 1 + e^{- y_i w^\\top x_i} )  + \\lambda \\Vert w \\Vert_1\\\\\n",
    "&\\iff \\hat w = 0\n",
    "\\end{align*}$\n",
    "    </center>\n",
    "    </div>"
   ]
  },
  {
   "cell_type": "markdown",
   "metadata": {},
   "source": [
    "<div class=\"alert alert-success\" role=\"alert\">\n",
    "<center>\n",
    "    <h5>Question2) </h5></center>\n",
    "    <br>\n",
    "    <h5>Show that for sparse Logistic regression the coordinate-wise Lipschitz constant of the smooth term, $\\gamma_j$, can be taken equal to $\\Vert X_j \\Vert^2 / 4$, where $X_j$ denotes the $j$-th column of $X$."
   ]
  },
  {
   "cell_type": "markdown",
   "metadata": {},
   "source": [
    "<div class=\"alert alert-info\" role=\"alert\">\n",
    "<center>\n",
    "<h4>\n",
    "**Answer :**</h4>\n",
    "\n",
    "Let's assume $f(x)= \\sum_{i=1}^{n} \\mathrm{log} ( 1 + e^{- y_i w^\\top x_i} ) $ \n",
    "<br>we compute the $j^{th}$ coordinate of the diagonal of the hessian matrix : $$\\frac{\\partial^2f(x)}{\\partial\\omega_j^2}=\\sum_{i=1}^{n} \\frac{y_i^2 x_{i,j} x_{i,j} e^{y_ix_i^T\\omega_T}}{(1+e^{y_ix_i^T\\omega_T})^2}=\\sum_{i=1}^{n} \\frac{x_{i,j}^2 e^{y_ix_i^T\\omega_T}}{(1+e^{y_ix_i^T\\omega_T})^2}$$\n",
    "\n",
    "So:  $\\Vert\\frac{\\partial^2f(x)}{\\partial\\omega_j^2}\\Vert_2 = \\sum_{i=1}^{n} \\frac{e^{y_ix_i^T\\omega_T}}{(1+e^{y_ix_i^T\\omega_T})^2}x_{ij}^2$ \n",
    " \n",
    " We know that $\\frac{e^\\alpha}{(1+e^\\alpha)^2}\\leq \\frac{1}{4}$ $ \\forall \\alpha \\in \\mathbb{R}$ then :\n",
    " \n",
    " $\\Vert\\frac{\\partial^2f(x)}{\\partial\\omega_j^2}\\Vert_2 \\leq \\frac{1}{4}\\sum_{i=1}^{n} x_{ij}^2=\\frac{1}{4}X_j^TX_j$ where $X_j$ is the $j^{th}$ column of X .\n",
    " \n",
    "Finally : \n",
    "$$ \\Vert\\frac{\\partial^2f(x)}{\\partial\\omega_j^2}\\Vert_2 \\leq \\frac{\\Vert X_j\\Vert_2}{4} $$ \n",
    "\n",
    "**Conclusion :** the coordinate-wise Lipschitz constant of the smooth term, $\\gamma_j$, can be taken equal to $\\Vert X_j \\Vert^2 / 4$ \n",
    "    </center>\n",
    "    </div>\n",
    " "
   ]
  },
  {
   "cell_type": "markdown",
   "metadata": {},
   "source": [
    "You are now ready to code cyclic proximal coordinate descent for sparse Logistic regression:"
   ]
  },
  {
   "cell_type": "markdown",
   "metadata": {},
   "source": [
    "<div class=\"alert alert-success\" role=\"alert\">\n",
    "<center>\n",
    "    <h5>Question Bonus: show that is possible, when the current iterate is w, to use the better Lipschitz constant \n",
    "    $$\\sum_i  \\frac{X_{i, j}^2}{(1 + \\mathrm{e}^{-y_i X_{i, j} w_j)^2}}$$\n",
    "    \n",
    "(why is it better?)\n",
    "</h5>\n",
    "</center>\n",
    "</div>"
   ]
  },
  {
   "cell_type": "markdown",
   "metadata": {},
   "source": [
    "<div class=\"alert alert-info\" role=\"alert\">\n",
    "<center>\n",
    "    <h4><B>Answer</B></h4>\n",
    "\n",
    "<br>\n",
    "First, it's clear that $L_j = \\sum_{i=1}^n  \\frac{X_{i, j}^2 \\mathrm{e}^{(Xw)_i}}{(1 +\n",
    "\\mathrm{e}^{(Xw)_i})^2}\\leq \\Vert X_j \\Vert^2 / 4 \\ \\  $(1). In fact, as we have show before:\n",
    "$$ \\frac{e^x}{(1+e^x)^2} \\leq \\frac14 \\ and \\  \\Vert X_j \\Vert^2=\\sum_{i=1}^n  X_{i, j}^2 $$\n",
    "Now, we'll just prove that $L_j = \\sum_{i=1}^n  \\frac{X_{i, j}^2 \\mathrm{e}^{(Xw)_i}}{(1 +\n",
    "\\mathrm{e}^{(Xw)_i})^2} $ is a lipschitz constant \n",
    "\n",
    "We have   $ \\frac{\\partial ^2 f}{(\\partial w_i)^2} = \\sum_{i=1}^{n} \\frac{y_i^2 X_{ij}^2 e^{ y_i w^\\top x_i}}{( 1 + e^{ y_i w^\\top x_i} )^2} $ .\n",
    "\n",
    "We denote h by  $ h(x) = \\frac{e^x}{(1+e^x)^2} $ \n",
    "<br>\n",
    "$h(-x)= \\frac{e^{-x}}{(1+e^{-x})^2}= \\frac{e^{-x}}{e^{-2x}(1+e^x)^2}=\\frac{e^x}{(1+e^x)^2}=h(x)$\n",
    "<br>\n",
    "then h is pair and since $y_i \\in \\{-1,1\\}$ \n",
    "<br> therefore $h(y_i w^\\top x_i)=h( w^\\top x_i) \\forall i $\n",
    "\n",
    "We have $ \\frac{\\partial ^2 f}{(\\partial w_j)^2}= \\sum_{i=1}^n  X_{i, j}^2 h(y_i w^\\top x_i)= \\sum_{i=1}^n  X_{i, j}^2 h(w^\\top x_i)\\leq  \\sum_{i=1}^{n} \\frac{X_{ij}^2 e^{ y_i w^\\top x_i}}{( 1 + e^{ y_i w^\\top x_i} )^2} =L_J $. \n",
    "<br> \n",
    "  Then $L_j$ is a lipschitz constant   $\\ \\ \\ \\ \\ \\ $(2).\n",
    "  <br>\n",
    "  Acoording to (1) and (2)  $$L_j = \\sum_{i=1}^n  \\frac{X_{i, j}^2 \\mathrm{e}^{(Xw)_i}}{(1 +\n",
    "\\mathrm{e}^{(Xw)_i})^2}$$  is a better Lipschitz constant than $ \\Vert X_j \\Vert^2 / 4 \\ \\  $\n",
    "    </center>\n",
    "    </div>"
   ]
  },
  {
   "cell_type": "markdown",
   "metadata": {},
   "source": [
    "Implement it in the code with a `better_lc` parameter, and compare."
   ]
  },
  {
   "cell_type": "code",
   "execution_count": 10,
   "metadata": {
    "ExecuteTime": {
     "end_time": "2018-11-11T02:27:50.689093Z",
     "start_time": "2018-11-11T02:27:50.653973Z"
    },
    "code_folding": []
   },
   "outputs": [],
   "source": [
    "\n",
    "X, y = simu(coefs, n_samples=1000, for_logreg=True)\n",
    "lambda_max = norm(X.T.dot(y), ord=np.inf) / 2.\n",
    "lamb = lambda_max / 10.\n",
    "# much easier to parametrize lambda as a function of lambda_max than\n",
    "# to take random values like 0.1 in previous Labs\n",
    "\n",
    "def sigmoid(t):\n",
    "    \"\"\"Sigmoid function\"\"\"\n",
    "    return 1. / (1. + np.exp(-t))\n",
    "\n",
    "def soft_thresh(x, u):\n",
    "    \"\"\"Soft thresholding of x at level u\"\"\"\n",
    "    return np.maximum(0., np.abs(x) - u)\n",
    "\n",
    "def cd_logreg(X, y, lamb, n_iter, better_lc=False, save_w=False):\n",
    "    n_samples, n_features = X.shape\n",
    "    w = np.zeros(n_features)\n",
    "    Xw = X.dot(w)\n",
    "\n",
    "    # TODO\n",
    "    if better_lc:\n",
    "        lips_const = [np.sum([X[i, j]**2*np.exp(np.abs(Xw[i]))/(sigmoid(np.abs(Xw[i])))\n",
    "                              ** 2 for i in range(n_samples)]) for j in range(n_features)]\n",
    "\n",
    "    else:\n",
    "        lips_const = np.linalg.norm(X, axis=0)**2/4.\n",
    "\n",
    "\n",
    "    # END TODO\n",
    "\n",
    "    all_objs = np.zeros(n_iter)\n",
    "    \n",
    "    w_save=np.array([])\n",
    "    \n",
    "    for t in range(n_iter):\n",
    "        for j in range(n_features):\n",
    "            old_w_j = w[j]\n",
    "\n",
    "            # TODO\n",
    "            grad_j = (-1)*np.sum([y[i]*X[i, j]*sigmoid(-y[i]*Xw[i])\n",
    "                                  for i in range(n_samples)])\n",
    "            w[j] = np.sign(w[j]-grad_j/lips_const[j]) * \\\n",
    "                soft_thresh(w[j]-grad_j/lips_const[j], lamb/lips_const[j])\n",
    "              \n",
    "\n",
    "            if old_w_j != w[j]:\n",
    "                Xw += X[:, j]*(w[j]-old_w_j)\n",
    "\n",
    "                # END TODO\n",
    "            if(better_lc==True):\n",
    "                lips_const[j] = np.sum([X[i, j]**2*np.exp(np.abs(Xw[i]))/(sigmoid(np.abs(Xw[i])))\n",
    "                                      ** 2 for i in range(n_samples)])  \n",
    "                \n",
    "        all_objs[t] = np.log(1. + np.exp(-y * Xw)).sum() + \\\n",
    "            lamb * norm(w, ord=1)\n",
    "        if(save_w==True):\n",
    "            w_save=np.append(w_save,w)\n",
    "    \n",
    "    \n",
    "    if (save_w==True):\n",
    "        w_save=np.reshape(w_save,(n_iter,n_features))\n",
    "        return w, all_objs,w_save\n",
    "    else:        \n",
    "        return w, all_objs"
   ]
  },
  {
   "cell_type": "code",
   "execution_count": 11,
   "metadata": {
    "ExecuteTime": {
     "end_time": "2018-11-11T02:28:23.930739Z",
     "start_time": "2018-11-11T02:27:50.691652Z"
    }
   },
   "outputs": [],
   "source": [
    "_, all_better_lc,w_saved_better_lc = cd_logreg(X, y, lamb, 100, better_lc=True,save_w=True)"
   ]
  },
  {
   "cell_type": "code",
   "execution_count": 12,
   "metadata": {},
   "outputs": [],
   "source": [
    "_,all_lc,w_saved_lc=cd_logreg(X, y, lamb, 100, better_lc=False,save_w=True)"
   ]
  },
  {
   "cell_type": "code",
   "execution_count": 13,
   "metadata": {},
   "outputs": [],
   "source": [
    "def find_min(X_,y_,lamb_):\n",
    "\n",
    "    def loss_log_reg_(w_, X_, y_,lamb_):\n",
    "        return np.sum([np.log(1+np.exp(-y_[i]*X_[i].dot(w_)))for i in range(X_.shape[0])])+lamb_*np.linalg.norm(w_,ord=1)\n",
    "\n",
    "\n",
    "    def grad_log_reg_(w_, X_, y_,lamb_):\n",
    "        return np.sum([-y_[i]*X_[i]*sigmoid(-y_[i]*(X_[i].dot(w_))) for i in range(X_.shape[0])], axis=0)+lamb_*np.sign(w_)\n",
    "\n",
    "    x_init_ = np.zeros(X_.shape[1])\n",
    "    x_min_log_reg_, f_min_log_reg_, _ = fmin_l_bfgs_b(\n",
    "        loss_log_reg_, x_init_, grad_log_reg_, args=(X_, y_,lamb_), pgtol=1e-30, factr=1e-30)\n",
    "    return x_min_log_reg_,f_min_log_reg_"
   ]
  },
  {
   "cell_type": "code",
   "execution_count": 14,
   "metadata": {},
   "outputs": [],
   "source": [
    "x_min_log_reg, f_min_log_reg = find_min(X, y, lamb)"
   ]
  },
  {
   "cell_type": "code",
   "execution_count": 15,
   "metadata": {},
   "outputs": [],
   "source": [
    "def plot_comparison(obj_better_ls,obj_lc,w_better_lc,w_lc,f_min_,x_min_, n_iter=3000):\n",
    "    plt.figure(figsize=(15, 5))\n",
    "\n",
    "    diff_obj = obj_lc - f_min_\n",
    "    diff_obj_better=obj_better_ls-f_min_\n",
    "    \n",
    "    error=np.array([np.linalg.norm(w_lc[t]-x_min_) for t in range(w_lc.shape[0])])\n",
    "    error_better=np.array([np.linalg.norm(w_better_lc[t]-x_min_) for t in range(w_better_lc.shape[0])])\n",
    "    \n",
    "    plt.subplot(1,2,1)\n",
    "    plt.plot(diff_obj, lw=2,label='loss without better_lc')\n",
    "    plt.plot(diff_obj_better, lw=2,label='loss with better_lc')\n",
    "    \n",
    "\n",
    "    \n",
    "    plt.title(\"Loss\")\n",
    "    plt.xlabel(\"Epoch\")\n",
    "    plt.ylabel(\"objective\")\n",
    "\n",
    "    plt.legend()\n",
    "    \n",
    "    plt.subplot(1,2,2)\n",
    "    \n",
    "    plt.plot(error, lw=2,label='error without better_lc')\n",
    "    plt.plot(error_better, lw=2,label='error with better_lc')\n",
    "    \n",
    "    plt.title(\"error\")\n",
    "    plt.xlabel(\"Epoch\")\n",
    "    plt.ylabel(\"objective\")\n",
    "    plt.legend()\n"
   ]
  },
  {
   "cell_type": "code",
   "execution_count": 16,
   "metadata": {},
   "outputs": [
    {
     "data": {
      "image/png": "[encoded data removed]",
      "text/plain": [
       "<Figure size 1080x360 with 2 Axes>"
      ]
     },
     "metadata": {
      "needs_background": "light"
     },
     "output_type": "display_data"
    }
   ],
   "source": [
    "plot_comparison(all_better_lc,all_lc,w_saved_better_lc,w_saved_lc,f_min_log_reg,x_min_log_reg)"
   ]
  },
  {
   "cell_type": "markdown",
   "metadata": {},
   "source": [
    "# Part 3: Real data\n",
    "\n",
    "We will compare vanilla cyclic CD and ISTA to solve the Lasso on a real dataset, called _leukemia_.\n",
    "\n",
    "You can download the file here: http://web.stanford.edu/~hastie/CASI_files/DATA/leukemia_big.csv, and you should place it in the same folder as the current notebook."
   ]
  },
  {
   "cell_type": "code",
   "execution_count": 17,
   "metadata": {
    "ExecuteTime": {
     "end_time": "2018-11-11T02:34:18.035262Z",
     "start_time": "2018-11-11T02:34:16.881985Z"
    }
   },
   "outputs": [],
   "source": [
    "from numpy import genfromtxt\n",
    "y = 2 * (genfromtxt('leukemia_big.csv',\n",
    "                    delimiter=',', dtype=str)[0] == 'ALL') - 1\n",
    "X = genfromtxt('leukemia_big.csv', delimiter=',')[1:].T\n"
   ]
  },
  {
   "cell_type": "code",
   "execution_count": 18,
   "metadata": {
    "ExecuteTime": {
     "end_time": "2018-11-11T02:34:42.572701Z",
     "start_time": "2018-11-11T02:34:42.564754Z"
    }
   },
   "outputs": [],
   "source": [
    "lambda_max_lasso = norm(X.T.dot(y), ord=np.inf)/2.\n",
    "lambd = lambda_max_lasso / 10"
   ]
  },
  {
   "cell_type": "markdown",
   "metadata": {},
   "source": [
    "Code:\n",
    "- a simple proximal gradient solver for the Lasso\n",
    "- a prox CD solver for the Lasso\n",
    "and compare them on this dataset. \n",
    "Do the plots in terms of epochs, not updates (to be fair to CD)."
   ]
  },
  {
   "cell_type": "markdown",
   "metadata": {},
   "source": [
    "<div class=\"alert alert-success\" role=\"alert\">\n",
    "<center>\n",
    "<h5>Question 1 : Code a simple proximal gradient solver for the Lasso"
   ]
  },
  {
   "cell_type": "code",
   "execution_count": 19,
   "metadata": {
    "ExecuteTime": {
     "end_time": "2018-11-11T02:34:43.334168Z",
     "start_time": "2018-11-11T02:34:43.322303Z"
    }
   },
   "outputs": [],
   "source": [
    "def prox_lasso(x, lamb):\n",
    "    return np.sign(x)*np.maximum(0, np.abs(x)-lamb)\n",
    "\n",
    "\n",
    "def lasso(x, lamb):\n",
    "    return lamb*np.linalg.norm(x, ord=1)\n",
    "\n",
    "\n",
    "def loss_log_reg(w, X, y):\n",
    "    return np.sum([np.log(1+np.exp(-y[i]*X[i].dot(w)))for i in range(X.shape[0])])\n",
    "\n",
    "\n",
    "def grad_log_reg(w, X, y):\n",
    "\n",
    "    return np.sum([-y[i]*X[i]*sigmoid(-y[i]*(X[i].dot(w))) for i in range(X.shape[0])], axis=0)\n",
    "\n",
    "\n",
    "def lip_log_reg(X):\n",
    "    return np.linalg.norm(X)/4.*X.shape[0]"
   ]
  },
  {
   "cell_type": "code",
   "execution_count": 20,
   "metadata": {
    "ExecuteTime": {
     "end_time": "2018-11-11T02:34:43.619518Z",
     "start_time": "2018-11-11T02:34:43.612618Z"
    }
   },
   "outputs": [],
   "source": [
    "def ista(w0, loss, grad_loss, pen, prox_pen, step, s=lambd, n_iter=50):\n",
    "    w = w0.copy()\n",
    "    w_new = w0.copy()\n",
    "    n_samples, n_features = X.shape\n",
    "\n",
    "    objectives = []\n",
    "    obj = loss(w, X, y)+pen(w, s)\n",
    "    objectives.append(obj)\n",
    "\n",
    "    for t in range(n_iter+1):\n",
    "        w = prox_pen(w-(1./step)*grad_loss(w, X, y), float(s)/step)\n",
    "\n",
    "        obj = loss(w, X, y)+pen(w, s)\n",
    "        objectives.append(obj)\n",
    "    return w, objectives"
   ]
  },
  {
   "cell_type": "markdown",
   "metadata": {},
   "source": [
    "<div class=\"alert alert-success\" role=\"alert\">\n",
    "<center>\n",
    "<h5>Question 2 : Compare them on this dataset"
   ]
  },
  {
   "cell_type": "code",
   "execution_count": 21,
   "metadata": {
    "ExecuteTime": {
     "end_time": "2018-11-11T02:34:46.954453Z",
     "start_time": "2018-11-11T02:34:45.914830Z"
    }
   },
   "outputs": [],
   "source": [
    "w0 = np.zeros(X.shape[1])\n",
    "w, objectiv = ista(w0, loss=loss_log_reg, grad_loss=grad_log_reg, n_iter=100,\n",
    "                   pen=lasso, prox_pen=prox_lasso, s=lambd/2, step=lip_log_reg(X))"
   ]
  },
  {
   "cell_type": "code",
   "execution_count": 22,
   "metadata": {
    "ExecuteTime": {
     "end_time": "2018-11-11T02:41:47.949730Z",
     "start_time": "2018-11-11T02:34:47.131716Z"
    }
   },
   "outputs": [],
   "source": [
    "_,all_,w_saved_value = cd_logreg(X, y, lambd, 100, better_lc=True,save_w=True)"
   ]
  },
  {
   "cell_type": "code",
   "execution_count": 23,
   "metadata": {
    "ExecuteTime": {
     "end_time": "2018-11-11T02:41:48.317762Z",
     "start_time": "2018-11-11T02:41:48.063950Z"
    }
   },
   "outputs": [
    {
     "data": {
      "text/plain": [
       "<matplotlib.legend.Legend at 0x7f529d826048>"
      ]
     },
     "execution_count": 23,
     "metadata": {},
     "output_type": "execute_result"
    },
    {
     "data": {
      "image/png": "[encoded data removed]",
      "text/plain": [
       "<Figure size 1080x1080 with 1 Axes>"
      ]
     },
     "metadata": {
      "needs_background": "light"
     },
     "output_type": "display_data"
    }
   ],
   "source": [
    "plt.figure(figsize=(15,15))\n",
    "plt.semilogy(objectiv-objectiv[-1], label=\"ISTA\")\n",
    "plt.semilogy(all_-all_[-1], label=\"cordinate descent\")\n",
    "plt.legend()"
   ]
  }
 ],
 "metadata": {
  "anaconda-cloud": {},
  "kernelspec": {
   "display_name": "Python [default]",
   "language": "python",
   "name": "python3"
  },
  "language_info": {
   "codemirror_mode": {
    "name": "ipython",
    "version": 3
   },
   "file_extension": ".py",
   "mimetype": "text/x-python",
   "name": "python",
   "nbconvert_exporter": "python",
   "pygments_lexer": "ipython3",
   "version": "3.6.6"
  },
  "latex_envs": {
   "LaTeX_envs_menu_present": true,
   "autoclose": false,
   "autocomplete": true,
   "bibliofile": "biblio.bib",
   "cite_by": "apalike",
   "current_citInitial": 1,
   "eqLabelWithNumbers": true,
   "eqNumInitial": 1,
   "hotkeys": {
    "equation": "Ctrl-E",
    "itemize": "Ctrl-I"
   },
   "labels_anchors": false,
   "latex_user_defs": false,
   "report_style_numbering": false,
   "user_envs_cfg": false
  },
  "nbTranslate": {
   "displayLangs": [
    "en",
    "fr"
   ],
   "hotkey": "alt-t",
   "langInMainMenu": true,
   "sourceLang": "en",
   "targetLang": "fr",
   "useGoogleTranslate": true
  },
  "varInspector": {
   "cols": {
    "lenName": 16,
    "lenType": 16,
    "lenVar": 40
   },
   "kernels_config": {
    "python": {
     "delete_cmd_postfix": "",
     "delete_cmd_prefix": "del ",
     "library": "var_list.py",
     "varRefreshCmd": "print(var_dic_list())"
    },
    "r": {
     "delete_cmd_postfix": ") ",
     "delete_cmd_prefix": "rm(",
     "library": "var_list.r",
     "varRefreshCmd": "cat(var_dic_list()) "
    }
   },
   "oldHeight": 663.833,
   "position": {
    "height": "40px",
    "left": "1356px",
    "right": "144.033px",
    "top": "106px",
    "width": "352.967px"
   },
   "types_to_exclude": [
    "module",
    "function",
    "builtin_function_or_method",
    "instance",
    "_Feature"
   ],
   "varInspector_section_display": "none",
   "window_display": true
  }
 },
 "nbformat": 4,
 "nbformat_minor": 2
}
